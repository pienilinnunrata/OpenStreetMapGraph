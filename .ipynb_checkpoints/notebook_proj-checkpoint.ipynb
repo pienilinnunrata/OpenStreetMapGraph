{
 "cells": [
  {
   "cell_type": "markdown",
   "metadata": {},
   "source": [
    "# Домашнее задание по курсу Теория конечных графов и ее приложения"
   ]
  },
  {
   "cell_type": "markdown",
   "metadata": {},
   "source": [
    "## Классы для работы с узлами и дорогами"
   ]
  },
  {
   "cell_type": "code",
   "execution_count": 1,
   "metadata": {},
   "outputs": [],
   "source": [
    "import svgwrite\n",
    "import time\n",
    "from lxml import etree\n",
    "import pandas as pd\n",
    "import numpy as np"
   ]
  },
  {
   "cell_type": "code",
   "execution_count": 2,
   "metadata": {},
   "outputs": [],
   "source": [
    "class Way:\n",
    "    def __init__(self, id, way_type = 'none', nodes = []):\n",
    "        self.id = id\n",
    "        self.way_type = way_type\n",
    "        self.nodes = nodes\n",
    "class Node:\n",
    "    def __init__(self, id, lat, lon):\n",
    "        self.id = id\n",
    "        self.lat = lat\n",
    "        self.lon = lon\n",
    "        self.is_start_node = False\n",
    "        self.is_end_node = False\n",
    "        self.is_in_road = False\n",
    "        self.is_crossroad = False\n",
    "        self.is_in_highway = False\n",
    "        self.is_in_hospital = False\n",
    "        self.number_in_dict = 0\n",
    "        self.is_entrance = False\n",
    "    def isDeletable(self):\n",
    "        return not(self.is_end_node or self.is_start_node or self.is_crossroad )"
   ]
  },
  {
   "cell_type": "markdown",
   "metadata": {},
   "source": [
    "## Парсинг"
   ]
  },
  {
   "cell_type": "code",
   "execution_count": 115,
   "metadata": {},
   "outputs": [],
   "source": [
    "def parse_osm(filename = 'kal.osm'):\n",
    "\n",
    "    start_time = time.time()\n",
    "    \n",
    "    print(\"Parsing .osm...\")\n",
    "    counted_highways = {'motorway', 'trunk', 'primary', 'secondary', 'tertiary', 'unclassified', 'living_street',\n",
    "                   'motorway_link', 'trunk_link',  'tertiary_link', 'track', 'service',\n",
    "                   'primary_link', 'secondary_link', 'road'} \n",
    "    \n",
    "    number_of_ways = 0\n",
    "    number_of_nodes = 0\n",
    "\n",
    "    tree = etree.iterparse(filename, events=('start',\"end\",))\n",
    "    for event, elem in tree:\n",
    "        # parsing ways\n",
    "        way = Way(0)\n",
    "        if elem.tag == 'way':\n",
    "            way.id = elem.get('id')\n",
    "            if event == 'end':\n",
    "                children = elem.getchildren()\n",
    "                nd = []\n",
    "                is_highway = False\n",
    "                is_hospital = False\n",
    "\n",
    "                for child in elem.iter('nd', 'tag'):\n",
    "                    if child.tag == 'tag' and child.get('k') == 'highway' and child.get('v') in counted_highways :\n",
    "                        way.way_type = child.get('v')\n",
    "                        is_highway = True\n",
    "                    if child.tag == 'tag' and child.get('k') == 'amenity' and child.get('v') == \"hospital\":\n",
    "                        way.way_type = 'hospital'\n",
    "                        is_hospital = True\n",
    "                if is_highway or is_hospital:\n",
    "                    for child in elem.iter('nd', 'tag'):\n",
    "                        if child.tag == 'nd':\n",
    "                            nd.append(child.get('ref'))\n",
    "                    way.nodes = nd\n",
    "                    ways.append(way)\n",
    "                    number_of_ways += 1\n",
    "                elem.clear()\n",
    "        # parsing nodes\n",
    "        if elem.tag == 'node':\n",
    "            node = Node(elem.get('id'), elem.get('lat'), elem.get('lon'))\n",
    "            if event == \"end\":\n",
    "                children = elem.getchildren()\n",
    "                for child in children:\n",
    "                    if child.tag == 'tag' and child.get('k') == 'building' and child.get('v') == 'entrance':\n",
    "                        node.is_entrance = True\n",
    "                nodes[elem.get('id')] = node\n",
    "                number_of_nodes += 1 \n",
    "                elem.clear()\n",
    "\n",
    "    print('Node number:',number_of_nodes)\n",
    "    print('Road number:',number_of_ways)\n",
    "    time_final = (time.time() - start_time)\n",
    "    print(\"--- %s seconds ---\" % time_final)\n",
    "    print(\"Done\")\n"
   ]
  },
  {
   "cell_type": "markdown",
   "metadata": {},
   "source": [
    "## Удаление промежуточных узлов"
   ]
  },
  {
   "cell_type": "code",
   "execution_count": 4,
   "metadata": {},
   "outputs": [],
   "source": [
    "def delete_transitional_nodes():\n",
    "    print('\\nDeleting transitional nodes...')\n",
    "    print('Nodes number before:',len(nodes))\n",
    "    for way in ways:\n",
    "        if way.way_type == 'hospital':\n",
    "            for node in way.nodes:\n",
    "                nodes.get(node).is_in_hospital = True\n",
    "                continue\n",
    "        is_first_node = True\n",
    "        nodenum = 0\n",
    "        for node in way.nodes:\n",
    "            nodes.get(node).is_in_highway = True\n",
    "            nodenum += 1\n",
    "            if is_first_node:\n",
    "                nodes.get(node).is_start_node = True\n",
    "                is_first_node = False\n",
    "            elif nodenum == len(way.nodes):\n",
    "                nodes.get(node).is_end_node = True\n",
    "            else:\n",
    "                if nodes.get(node).is_in_road:\n",
    "                    nodes.get(node).is_crossroad = True\n",
    "                else:\n",
    "                    nodes.get(node).is_in_road = True\n",
    "\n",
    "    to_pop_list = []\n",
    "    for node in nodes:\n",
    "        if not nodes.get(node).is_in_highway and not nodes.get(node).is_in_hospital:\n",
    "            to_pop_list.append(str(node))\n",
    "    for i in range(0,len(to_pop_list)-1):\n",
    "        nodes.pop(to_pop_list[i])\n",
    "\n",
    "    for way in ways:\n",
    "        if way.way_type == 'hospital':\n",
    "            continue\n",
    "        list_to_remove = []\n",
    "        for node in way.nodes:\n",
    "            if nodes.get(node).isDeletable():\n",
    "                nodes.pop(node)\n",
    "                list_to_remove.append(node)\n",
    "        for i in range(0,len(list_to_remove)):\n",
    "            way.nodes.remove(list_to_remove[i])\n",
    "    print('Nodes number after:',len(nodes))\n",
    "\n",
    "    number = 0\n",
    "    for node in nodes:\n",
    "        number += 1\n",
    "        nodes.get(node).number_in_dict = number\n",
    "    print(\"Done\")"
   ]
  },
  {
   "cell_type": "markdown",
   "metadata": {},
   "source": [
    "## Отрисовка карты "
   ]
  },
  {
   "cell_type": "code",
   "execution_count": 124,
   "metadata": {},
   "outputs": [],
   "source": [
    "def trans(a):\n",
    "    return ((a * 10e6) )\n",
    "def draw_map(svgurl = \"pictures/kaliningrad_map.svg\"): \n",
    "    print(\"\\nDrawing map...\")\n",
    "    ratio = 1.3 # to avoid too much deformation\n",
    "    ypicsize = 5000\n",
    "    xpicsize = int(ypicsize / ratio)\n",
    "    ypicsizepx = str(xpicsize) + 'px'\n",
    "    xpicsizepx = str(ypicsize) + 'px'\n",
    "\n",
    "    start_time = time.time()\n",
    "\n",
    "    # TODO: to get from .osm\n",
    "    minlat = 54.6266000\n",
    "    maxlat = 54.7817000\n",
    "    minlon = 20.2794000\n",
    "    maxlon = 20.6632000\n",
    "\n",
    "    scalelat = ((maxlat - minlat) * 10e6) / xpicsize\n",
    "    scalelon = ((maxlon - minlon) * 10e6) / ypicsize\n",
    "\n",
    "    svg_document = svgwrite.Drawing(filename = svgurl, size = (xpicsizepx, ypicsizepx))\n",
    "    svg_document.add(svg_document.text(\"Kaliningrad roadmap\",insert = (40, 40)))\n",
    "    svg_document.save()\n",
    "\n",
    "    yellow_roads = ['motorway','trunk','primary']\n",
    "    black_roads = ['secondary', 'tertiary','unclassified', 'residential']\n",
    "    hospitals = ['hospital']\n",
    "    for elem in ways:\n",
    "\n",
    "        color = 'blue' # small roads\n",
    "        swidth = 1\n",
    "        if elem.way_type in yellow_roads:\n",
    "            color = 'yellow' # the biggest roads\n",
    "            swidth = 6\n",
    "        if elem.way_type in black_roads:\n",
    "            color = 'black' # big roads\n",
    "            swidth = 3\n",
    "        if elem.way_type in hospitals:\n",
    "            color = 'green' # hospitals\n",
    "            swidth = 6\n",
    "\n",
    "        points = []\n",
    "        for i in range(0, len(elem.nodes)):\n",
    "            y = (trans(maxlat) - trans(float(nodes.get(elem.nodes[i]).lat))) / scalelat\n",
    "            x = ypicsize - (trans(maxlon) - trans(float(nodes.get(elem.nodes[i]).lon))) / scalelon\n",
    "            points.append((x,y))\n",
    "    \n",
    "            point_color = 'red'\n",
    "            point_r = 2\n",
    "            if nodes.get(elem.nodes[i]).is_entrance and nodes.get(elem.nodes[i]).is_in_hospital:\n",
    "                point_color = 'red'\n",
    "                point_r = 10\n",
    "                svg_document.add(svg_document.circle(center = (x,y), r = point_r, stroke = point_color, fill=point_color )) # write nodes to svg\n",
    "        svg_document.add(svg_document.polyline(points, stroke=color, stroke_width = swidth, fill='none')) # write roads to svg \n",
    "    time_final = (time.time() - start_time)\n",
    "    print(\"--- %s seconds ---\" % time_final)\n",
    "    svg_document.save()\n",
    "    print(\"Done\")"
   ]
  },
  {
   "cell_type": "markdown",
   "metadata": {},
   "source": [
    "## Матрица смежности и список смежности в .csv"
   ]
  },
  {
   "cell_type": "code",
   "execution_count": 6,
   "metadata": {},
   "outputs": [],
   "source": [
    "def write_csv(matrix_path = 'csv/adjacency_matrix.csv', list_path = 'csv/adjacency_list.csv'):\n",
    "    print(\"Writing into csv...\")\n",
    "    node_count = len(nodes)\n",
    "    adjacency_matrix = np.zeros([node_count, node_count], dtype=np.int8) #int\\\n",
    "    adjacency_list = {}\n",
    "\n",
    "    for w in ways:\n",
    "        for n in range(len(w.nodes) - 1):\n",
    "            x = nodes.get(w.nodes[n])\n",
    "            y = nodes.get(w.nodes[n+1])\n",
    "\n",
    "            adjacency_matrix[x.number_in_dict,y.number_in_dict] = 1\n",
    "            adjacency_matrix[y.number_in_dict,x.number_in_dict] = 1\n",
    "\n",
    "            temp = adjacency_list.get(x.id,[])\n",
    "            temp.append(y.id)\n",
    "            adjacency_list.update({x.id:temp})\n",
    "            temp = adjacency_list.get(y.id,[])\n",
    "            temp.append(x.id)\n",
    "            adjacency_list.update({y.id:temp})\n",
    "\n",
    "    df_am = pd.DataFrame(adjacency_matrix, columns=nodes.keys())\n",
    "    df_am.index = nodes.keys()\n",
    "\n",
    "    df_al = pd.DataFrame.from_dict(adjacency_list, orient=\"index\")\n",
    "\n",
    "    df_am.to_csv(matrix_path)\n",
    "    df_al.to_csv(list_path)\n",
    "    print(\"Done\")\n",
    "    \n",
    "    #df_am.head(10)\n",
    "    #df_al.head(10)"
   ]
  },
  {
   "cell_type": "code",
   "execution_count": 125,
   "metadata": {},
   "outputs": [
    {
     "name": "stdout",
     "output_type": "stream",
     "text": [
      "\n",
      "Drawing map...\n",
      "--- 0.004011869430541992 seconds ---\n",
      "Done\n",
      "All done\n"
     ]
    }
   ],
   "source": [
    "if __name__ == \"__main__\":\n",
    "    ways = []\n",
    "    nodes = {}\n",
    "\n",
    "    #parse_osm()\n",
    "    #delete_transitional_nodes()\n",
    "    draw_map(\"pictures/test1.svg\")\n",
    "    #write_csv()\n",
    "    print(\"All done\")"
   ]
  },
  {
   "cell_type": "code",
   "execution_count": 97,
   "metadata": {},
   "outputs": [],
   "source": [
    "\n",
    "for elem in ways:\n",
    "    if elem.id == '107178255':\n",
    "        print('ok')"
   ]
  },
  {
   "cell_type": "code",
   "execution_count": 98,
   "metadata": {},
   "outputs": [
    {
     "name": "stdout",
     "output_type": "stream",
     "text": [
      "<__main__.Node object at 0x0000027268463C88>\n"
     ]
    }
   ],
   "source": [
    "print(nodes.get('2810420208'))"
   ]
  },
  {
   "cell_type": "code",
   "execution_count": null,
   "metadata": {},
   "outputs": [],
   "source": []
  },
  {
   "cell_type": "code",
   "execution_count": null,
   "metadata": {},
   "outputs": [],
   "source": []
  }
 ],
 "metadata": {
  "kernelspec": {
   "display_name": "Python 3",
   "language": "python",
   "name": "python3"
  },
  "language_info": {
   "codemirror_mode": {
    "name": "ipython",
    "version": 3
   },
   "file_extension": ".py",
   "mimetype": "text/x-python",
   "name": "python",
   "nbconvert_exporter": "python",
   "pygments_lexer": "ipython3",
   "version": "3.6.4"
  }
 },
 "nbformat": 4,
 "nbformat_minor": 2
}
